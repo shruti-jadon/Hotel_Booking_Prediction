{
 "cells": [
  {
   "cell_type": "code",
   "execution_count": 184,
   "metadata": {},
   "outputs": [],
   "source": [
    "#!/usr/bin/env python\n",
    "import pandas as pd\n",
    "import numpy as np\n",
    "import pandas as pd\n",
    "import matplotlib.pyplot as plt\n",
    "# tsv_file='TH_data_challenge.tsv'\n",
    "# csv_table=pd.read_table(tsv_file,sep='\\t')\n",
    "# csv_table.to_csv('data_.csv',index=False)"
   ]
  },
  {
   "cell_type": "code",
   "execution_count": 185,
   "metadata": {},
   "outputs": [],
   "source": [
    "df = pd.read_csv('data_.csv', sep=',')"
   ]
  },
  {
   "cell_type": "code",
   "execution_count": 186,
   "metadata": {},
   "outputs": [],
   "source": [
    "Y=df.loc[:, :'dim_is_requested']\n",
    "df.drop(df.columns[[0,1,2,3,4]], axis=1, inplace=True)\n",
    "#print df.head()"
   ]
  },
  {
   "cell_type": "code",
   "execution_count": 187,
   "metadata": {},
   "outputs": [],
   "source": [
    "def myfillna(series):\n",
    "    if series.dtype is pd.np.dtype(float):\n",
    "        #print (\"found\")\n",
    "        return series.fillna(-1)\n",
    "    elif series.dtype is pd.np.dtype(object):\n",
    "        #print (\"case2\")\n",
    "        return series.fillna('.')\n",
    "    else:\n",
    "        return series"
   ]
  },
  {
   "cell_type": "code",
   "execution_count": 188,
   "metadata": {},
   "outputs": [
    {
     "name": "stdout",
     "output_type": "stream",
     "text": [
      "m_effective_daily_price                               float64\n",
      "m_pricing_cleaning_fee                                float64\n",
      "dim_market                                             object\n",
      "dim_lat                                               float64\n",
      "dim_lng                                               float64\n",
      "dim_room_type                                          object\n",
      "dim_person_capacity                                     int64\n",
      "dim_is_instant_bookable                                  bool\n",
      "m_checkouts                                           float64\n",
      "m_reviews                                             float64\n",
      "days_since_last_booking                               float64\n",
      "cancel_policy                                           int64\n",
      "image_quality_score                                   float64\n",
      "m_total_overall_rating                                float64\n",
      "m_professional_pictures                               float64\n",
      "dim_has_wireless_internet                               int64\n",
      "ds_night_day_of_week                                    int64\n",
      "ds_night_day_of_year                                    int64\n",
      "ds_checkin_gap                                        float64\n",
      "ds_checkout_gap                                       float64\n",
      "occ_occupancy_plus_minus_7_ds_night                   float64\n",
      "occ_occupancy_plus_minus_14_ds_night                  float64\n",
      "occ_occupancy_trailing_90_ds                          float64\n",
      "m_minimum_nights                                      float64\n",
      "m_maximum_nights                                      float64\n",
      "price_booked_most_recent                              float64\n",
      "p2_p3_click_through_score                             float64\n",
      "p3_inquiry_score                                      float64\n",
      "listing_m_listing_views_2_6_ds_night_decay            float64\n",
      "general_market_m_unique_searchers_0_6_ds_night        float64\n",
      "general_market_m_contacts_0_6_ds_night                float64\n",
      "general_market_m_reservation_requests_0_6_ds_night    float64\n",
      "general_market_m_is_booked_0_6_ds_night               float64\n",
      "m_available_listings_ds_night                           int64\n",
      "kdt_score                                             float64\n",
      "r_kdt_listing_views_0_6_avg_n100                      float64\n",
      "r_kdt_n_active_n100                                   float64\n",
      "r_kdt_n_available_n100                                float64\n",
      "r_kdt_m_effective_daily_price_n100_p50                float64\n",
      "r_kdt_m_effective_daily_price_available_n100_p50      float64\n",
      "r_kdt_m_effective_daily_price_booked_n100_p50         float64\n",
      "dtype: object\n"
     ]
    }
   ],
   "source": [
    "df = df.apply(myfillna)\n",
    "#print df.head()\n",
    "print df.dtypes"
   ]
  },
  {
   "cell_type": "code",
   "execution_count": 189,
   "metadata": {},
   "outputs": [
    {
     "name": "stdout",
     "output_type": "stream",
     "text": [
      "    dim_market dim_room_type  dim_is_instant_bookable\n",
      "0  Los Angeles  Private room                    False\n",
      "1  Los Angeles  Private room                     True\n",
      "2  Los Angeles  Private room                    False\n",
      "(184279, 3)\n",
      "(184279, 38)\n"
     ]
    }
   ],
   "source": [
    "X = df.select_dtypes(include=[object,bool])\n",
    "X_other= df.select_dtypes(include=[float,int])\n",
    "print X.head(3)\n",
    "print X.shape\n",
    "print X_other.shape"
   ]
  },
  {
   "cell_type": "code",
   "execution_count": 190,
   "metadata": {},
   "outputs": [
    {
     "name": "stdout",
     "output_type": "stream",
     "text": [
      "Index([u'dim_market', u'dim_room_type', u'dim_is_instant_bookable'], dtype='object')\n"
     ]
    },
    {
     "data": {
      "text/html": [
       "<div>\n",
       "<style scoped>\n",
       "    .dataframe tbody tr th:only-of-type {\n",
       "        vertical-align: middle;\n",
       "    }\n",
       "\n",
       "    .dataframe tbody tr th {\n",
       "        vertical-align: top;\n",
       "    }\n",
       "\n",
       "    .dataframe thead th {\n",
       "        text-align: right;\n",
       "    }\n",
       "</style>\n",
       "<table border=\"1\" class=\"dataframe\">\n",
       "  <thead>\n",
       "    <tr style=\"text-align: right;\">\n",
       "      <th></th>\n",
       "      <th>dim_market</th>\n",
       "      <th>dim_room_type</th>\n",
       "      <th>dim_is_instant_bookable</th>\n",
       "    </tr>\n",
       "  </thead>\n",
       "  <tbody>\n",
       "    <tr>\n",
       "      <th>0</th>\n",
       "      <td>0</td>\n",
       "      <td>1</td>\n",
       "      <td>0</td>\n",
       "    </tr>\n",
       "    <tr>\n",
       "      <th>1</th>\n",
       "      <td>0</td>\n",
       "      <td>1</td>\n",
       "      <td>1</td>\n",
       "    </tr>\n",
       "    <tr>\n",
       "      <th>2</th>\n",
       "      <td>0</td>\n",
       "      <td>1</td>\n",
       "      <td>0</td>\n",
       "    </tr>\n",
       "    <tr>\n",
       "      <th>3</th>\n",
       "      <td>0</td>\n",
       "      <td>0</td>\n",
       "      <td>0</td>\n",
       "    </tr>\n",
       "    <tr>\n",
       "      <th>4</th>\n",
       "      <td>0</td>\n",
       "      <td>0</td>\n",
       "      <td>0</td>\n",
       "    </tr>\n",
       "    <tr>\n",
       "      <th>5</th>\n",
       "      <td>0</td>\n",
       "      <td>1</td>\n",
       "      <td>0</td>\n",
       "    </tr>\n",
       "    <tr>\n",
       "      <th>6</th>\n",
       "      <td>0</td>\n",
       "      <td>1</td>\n",
       "      <td>0</td>\n",
       "    </tr>\n",
       "    <tr>\n",
       "      <th>7</th>\n",
       "      <td>0</td>\n",
       "      <td>0</td>\n",
       "      <td>0</td>\n",
       "    </tr>\n",
       "    <tr>\n",
       "      <th>8</th>\n",
       "      <td>0</td>\n",
       "      <td>2</td>\n",
       "      <td>0</td>\n",
       "    </tr>\n",
       "    <tr>\n",
       "      <th>9</th>\n",
       "      <td>0</td>\n",
       "      <td>0</td>\n",
       "      <td>0</td>\n",
       "    </tr>\n",
       "  </tbody>\n",
       "</table>\n",
       "</div>"
      ],
      "text/plain": [
       "   dim_market  dim_room_type  dim_is_instant_bookable\n",
       "0           0              1                        0\n",
       "1           0              1                        1\n",
       "2           0              1                        0\n",
       "3           0              0                        0\n",
       "4           0              0                        0\n",
       "5           0              1                        0\n",
       "6           0              1                        0\n",
       "7           0              0                        0\n",
       "8           0              2                        0\n",
       "9           0              0                        0"
      ]
     },
     "execution_count": 190,
     "metadata": {},
     "output_type": "execute_result"
    }
   ],
   "source": [
    "from sklearn import preprocessing\n",
    "print X.columns\n",
    "# TODO: create a LabelEncoder object and fit it to each feature in X\n",
    "# 1. INSTANTIATE\n",
    "# encode labels with value between 0 and n_classes-1.\n",
    "le = preprocessing.LabelEncoder()\n",
    "# 2/3. FIT AND TRANSFORM\n",
    "# use df.apply() to apply le.fit_transform to all columns\n",
    "X_2 = X.apply(le.fit_transform)\n",
    "X_2.head(10)"
   ]
  },
  {
   "cell_type": "code",
   "execution_count": 191,
   "metadata": {},
   "outputs": [
    {
     "name": "stdout",
     "output_type": "stream",
     "text": [
      "(184279, 8)\n",
      "[[1. 0. 0. ... 0. 1. 0.]\n",
      " [1. 0. 0. ... 0. 0. 1.]\n",
      " [1. 0. 0. ... 0. 1. 0.]\n",
      " ...\n",
      " [0. 0. 1. ... 1. 1. 0.]\n",
      " [0. 0. 1. ... 0. 0. 1.]\n",
      " [0. 0. 1. ... 0. 1. 0.]]\n"
     ]
    }
   ],
   "source": [
    "# 1. INSTANTIATE\n",
    "enc = preprocessing.OneHotEncoder()\n",
    "# 2. FIT\n",
    "enc.fit(X_2)\n",
    "# 3. Transform\n",
    "onehotlabels = enc.transform(X_2).toarray()\n",
    "print onehotlabels.shape\n",
    "print onehotlabels"
   ]
  },
  {
   "cell_type": "code",
   "execution_count": 192,
   "metadata": {},
   "outputs": [
    {
     "name": "stdout",
     "output_type": "stream",
     "text": [
      "(184279, 46)\n"
     ]
    }
   ],
   "source": [
    "X_=np.concatenate((onehotlabels, X_other), axis=1)\n",
    "print X_.shape"
   ]
  },
  {
   "cell_type": "code",
   "execution_count": 193,
   "metadata": {},
   "outputs": [],
   "source": [
    "from sklearn.preprocessing import LabelEncoder\n",
    "\n",
    "#Auto encodes any dataframe column of type category or object.\n",
    "def dummyEncode(df):\n",
    "        columnsToEncode = list(df.select_dtypes(include=['category','object','bool']))\n",
    "        le = LabelEncoder()\n",
    "        for feature in columnsToEncode:\n",
    "            try:\n",
    "                df[feature] = le.fit_transform(df[feature])\n",
    "            except:\n",
    "                print('Error encoding '+feature)\n",
    "        return df"
   ]
  },
  {
   "cell_type": "code",
   "execution_count": 194,
   "metadata": {},
   "outputs": [
    {
     "name": "stdout",
     "output_type": "stream",
     "text": [
      "[0]\n"
     ]
    }
   ],
   "source": [
    "Y=dummyEncode(Y)\n",
    "Y=Y.as_matrix()\n",
    "print Y[0]"
   ]
  },
  {
   "cell_type": "code",
   "execution_count": 195,
   "metadata": {},
   "outputs": [
    {
     "name": "stdout",
     "output_type": "stream",
     "text": [
      "[ 1.00000000e+00  0.00000000e+00  0.00000000e+00  0.00000000e+00\n",
      "  1.00000000e+00  0.00000000e+00  1.00000000e+00  0.00000000e+00\n",
      "  1.10000000e+02  6.00000000e+01  3.40539320e+01 -1.18362970e+02\n",
      "  2.00000000e+00  2.40000000e+01  1.90000000e+01  3.20000000e+02\n",
      "  4.00000000e+00  8.30959000e-01  7.40000000e+01  1.60000000e+01\n",
      "  1.00000000e+00  2.00000000e+00  6.00000000e+00  0.00000000e+00\n",
      "  7.00000000e+00 -1.00000000e+00 -1.00000000e+00  0.00000000e+00\n",
      "  5.00000000e+00  9.00000000e+01  9.20000000e+01 -1.00000000e+00\n",
      " -1.00000000e+00  1.33333333e-01  7.88142857e+02  2.41428571e+02\n",
      "  4.14285714e+01  1.00000000e+00  9.84000000e+03  1.31428576e+00\n",
      "  1.79591837e+00  5.70000000e+01  4.80000000e+01  7.90000000e+01\n",
      "  7.50000000e+01  9.80000000e+01]\n",
      "[0]\n"
     ]
    }
   ],
   "source": [
    "# def indices_to_one_hot(data, nb_classes):\n",
    "#     \"\"\"Convert an iterable of indices to one-hot encoded labels.\"\"\"\n",
    "#     targets = np.array(data).reshape(-1)\n",
    "#     return np.eye(nb_classes)[targets]\n",
    "\n",
    "# Y=indices_to_one_hot(2, Y)\n",
    "# print Y\n",
    "print X_[0]\n",
    "print Y[0]"
   ]
  },
  {
   "cell_type": "code",
   "execution_count": 196,
   "metadata": {},
   "outputs": [],
   "source": [
    "from sklearn.model_selection import train_test_split\n",
    "import warnings\n",
    "import operator\n",
    "warnings.filterwarnings(\"ignore\")\n",
    "X_train, X_test, y_train, y_test = train_test_split(X_, Y, test_size=0.3, random_state=42)"
   ]
  },
  {
   "cell_type": "code",
   "execution_count": 197,
   "metadata": {},
   "outputs": [],
   "source": [
    "from sklearn.ensemble import GradientBoostingClassifier\n",
    "import xgboost as xgb\n",
    "import warnings\n",
    "import heapq\n",
    "import time\n",
    "from sklearn.model_selection import GridSearchCV\n",
    "from sklearn.ensemble import RandomForestClassifier"
   ]
  },
  {
   "cell_type": "code",
   "execution_count": 198,
   "metadata": {},
   "outputs": [],
   "source": [
    "# clf = RandomForestClassifier(n_estimators=1000,bootstrap=True,min_samples_leaf=10,min_samples_split=2,criterion='gini',max_features=3, max_depth=None)\n",
    "# clf=clf.fit(X_train,y_train)\n",
    "# print(clf.feature_importances_)\n",
    "# y_pred=clf.predict(X_test)\n",
    "# from sklearn.metrics import accuracy_score\n",
    "# print accuracy_score(y_test, y_pred)\n"
   ]
  },
  {
   "cell_type": "code",
   "execution_count": 199,
   "metadata": {},
   "outputs": [],
   "source": [
    "# fit model no training data\n",
    "# from xgboost import XGBClassifier\n",
    "# model = XGBClassifier(learning_rate=0.1, n_estimators=1000, max_depth=5, min_child_weight=1, gamma=0, subsample=0.8, colsample_bytree=0.8, objective= 'binary:logistic', nthread=4, scale_pos_weight=1, seed=27)\n",
    "# model= model.fit(X_train, y_train)\n",
    "# print(model.feature_importances_)\n",
    "# y_pred=model.predict(X_test)\n",
    "# print accuracy_score(y_test, y_pred)"
   ]
  },
  {
   "cell_type": "code",
   "execution_count": 200,
   "metadata": {},
   "outputs": [],
   "source": [
    "# from sklearn import ensemble\n",
    "# original_params = {'n_estimators': 1000, 'max_leaf_nodes': 4, 'max_depth': None, 'random_state': 2,\n",
    "#                    'min_samples_split': 5}\n",
    "# params = dict(original_params)\n",
    "# clf = ensemble.GradientBoostingClassifier(**params)\n",
    "# clf.fit(X_train, y_train)"
   ]
  },
  {
   "cell_type": "code",
   "execution_count": 201,
   "metadata": {},
   "outputs": [],
   "source": [
    "# y_pred=model.predict(X_test)\n",
    "# print accuracy_score(y_test, y_pred)"
   ]
  },
  {
   "cell_type": "code",
   "execution_count": 202,
   "metadata": {},
   "outputs": [],
   "source": [
    "#print(clf.feature_importances_)"
   ]
  },
  {
   "cell_type": "code",
   "execution_count": 203,
   "metadata": {},
   "outputs": [],
   "source": [
    "# import xgboost as xgb\n",
    "# n_folds = 5\n",
    "# early_stopping = 10\n",
    "# params = {'eta': 0.02, 'max_depth': 5, 'subsample': 0.7, 'colsample_bytree': 0.7, 'objective': 'binary:logistic', 'seed': 99, 'silent': 1, 'eval_metric':'auc', 'nthread':4}\n",
    "\n",
    "# xg_train = xgb.DMatrix(X_train, label=y_train);\n",
    "\n",
    "#cv = xgb.cv(params, xg_train, 5000, nfold=n_folds, early_stopping_rounds=early_stopping, verbose_eval=1)\n"
   ]
  },
  {
   "cell_type": "code",
   "execution_count": 204,
   "metadata": {},
   "outputs": [],
   "source": [
    "#print cv.params"
   ]
  },
  {
   "cell_type": "code",
   "execution_count": 205,
   "metadata": {},
   "outputs": [],
   "source": [
    "# y_pred=cv.predict(X_test)\n",
    "# print accuracy_score(y_test, y_pred)"
   ]
  },
  {
   "cell_type": "code",
   "execution_count": 206,
   "metadata": {},
   "outputs": [],
   "source": [
    "#xg_train.save_binary('train.buffer')"
   ]
  },
  {
   "cell_type": "code",
   "execution_count": 207,
   "metadata": {},
   "outputs": [],
   "source": [
    "#xgb.save_model('0001.model')"
   ]
  },
  {
   "cell_type": "code",
   "execution_count": 208,
   "metadata": {},
   "outputs": [],
   "source": [
    "t=5000\n",
    "params = {'n_estimators':5000, 'subsample': 0.7, 'colsample_bytree': 0.7, 'objective': 'binary:logistic', 'seed': 99, 'silent': 1, 'eval_metric':'auc', 'nthread':4}\n",
    "#X_train, y_train=X_train[:t], y_train[:t]"
   ]
  },
  {
   "cell_type": "code",
   "execution_count": null,
   "metadata": {},
   "outputs": [
    {
     "name": "stdout",
     "output_type": "stream",
     "text": [
      "Fitting 5 folds for each of 60 candidates, totalling 300 fits\n"
     ]
    },
    {
     "name": "stderr",
     "output_type": "stream",
     "text": [
      "[Parallel(n_jobs=1)]: Using backend SequentialBackend with 1 concurrent workers.\n"
     ]
    }
   ],
   "source": [
    "from sklearn.model_selection import GridSearchCV\n",
    "cv=5\n",
    "params_sklearn={}\n",
    "param_untuned = {'booster':('gbtree', 'gblinear','dart'), 'max_depth':[2,5,7,10],'eta':[0.05,0.02,0.1,0.5,0.7]}\n",
    "estimator = xgb.XGBClassifier(**params)\n",
    "grid_search = GridSearchCV(estimator, param_grid=param_untuned, scoring='accuracy', cv=cv, verbose=1)\n",
    "grid_search.fit(X_train, y_train)\n",
    "df = pd.DataFrame(grid_search.cv_results_)[['params', 'mean_train_score', 'mean_test_score']]\n",
    "#print df\n",
    "print 'the best_params : ', grid_search.best_params_\n",
    "print 'the best_score  : ', grid_search.best_score_\n",
    "for k,v in grid_search.best_params_.items():\n",
    "    params_sklearn[k] = v"
   ]
  },
  {
   "cell_type": "code",
   "execution_count": null,
   "metadata": {},
   "outputs": [],
   "source": [
    "evaluated=grid_search.best_params_\n",
    "params=dict(params.items() + evaluated.items())"
   ]
  },
  {
   "cell_type": "code",
   "execution_count": null,
   "metadata": {},
   "outputs": [],
   "source": [
    "estimator = xgb.XGBClassifier(**params).fit(X_train,y_train)"
   ]
  },
  {
   "cell_type": "code",
   "execution_count": null,
   "metadata": {},
   "outputs": [],
   "source": [
    "y_pred= estimator.predict(X_test)\n",
    "print accuracy_score(y_test, y_pred)"
   ]
  },
  {
   "cell_type": "code",
   "execution_count": null,
   "metadata": {},
   "outputs": [],
   "source": [
    "print df"
   ]
  },
  {
   "cell_type": "code",
   "execution_count": null,
   "metadata": {},
   "outputs": [],
   "source": []
  }
 ],
 "metadata": {
  "kernelspec": {
   "display_name": "Python 2",
   "language": "python",
   "name": "python2"
  },
  "language_info": {
   "codemirror_mode": {
    "name": "ipython",
    "version": 2
   },
   "file_extension": ".py",
   "mimetype": "text/x-python",
   "name": "python",
   "nbconvert_exporter": "python",
   "pygments_lexer": "ipython2",
   "version": "2.7.15"
  }
 },
 "nbformat": 4,
 "nbformat_minor": 2
}
