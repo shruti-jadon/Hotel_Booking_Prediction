{
 "cells": [
  {
   "cell_type": "code",
   "execution_count": 36,
   "metadata": {},
   "outputs": [],
   "source": [
    "# consider classification ensemble method as well\n",
    "import numpy as np\n",
    "import csv\n",
    "from datetime import datetime\n",
    "import pandas as pd"
   ]
  },
  {
   "cell_type": "code",
   "execution_count": 37,
   "metadata": {},
   "outputs": [],
   "source": [
    "df = pd.read_csv('data.csv', sep='\\t')"
   ]
  },
  {
   "cell_type": "code",
   "execution_count": 38,
   "metadata": {},
   "outputs": [
    {
     "name": "stdout",
     "output_type": "stream",
     "text": [
      "   dim_is_requested    ds_night          ds  \\\n",
      "0             False  2015-01-06  2014-12-07   \n",
      "1              True  2015-01-21  2014-12-22   \n",
      "2             False  2015-01-22  2014-12-23   \n",
      "3              True  2015-02-02  2015-01-03   \n",
      "4              True  2015-02-13  2015-01-14   \n",
      "\n",
      "                        id_listing_anon                          id_user_anon  \\\n",
      "0  0ae0c7cc-a8a4-425f-9ccc-8b25dbb94f4d  dcc74708-d5c4-47b2-bc0c-97bf5abfcd99   \n",
      "1  82fdda07-6993-4cca-8ee4-fc218d2c07c7  559d8981-0c75-4631-9582-a3b644bb5631   \n",
      "2  69b2069d-cf8f-49a7-b559-9619dbe86a7d  ee7901a6-79d5-4d69-bacf-e4bca976a66a   \n",
      "3  66baade6-9352-4d7c-b590-745899bd12b3  af691f3d-525e-497c-b9c5-8750b097b04d   \n",
      "4  01e3589e-a50a-494b-8cb2-9645b29476d0  6733a1d9-d485-4ea7-b8d2-883ee8a363b9   \n",
      "\n",
      "   m_effective_daily_price  m_pricing_cleaning_fee   dim_market    dim_lat  \\\n",
      "0               110.000000                    60.0  Los Angeles  34.053932   \n",
      "1                70.000000                     0.0  Los Angeles  34.108578   \n",
      "2               125.000000                     0.0  Los Angeles  34.077194   \n",
      "3               126.866667                   125.0  Los Angeles  34.093494   \n",
      "4               210.714286                   200.0  Los Angeles  34.097540   \n",
      "\n",
      "      dim_lng                      ...                        \\\n",
      "0 -118.362970                      ...                         \n",
      "1 -118.208600                      ...                         \n",
      "2 -118.205700                      ...                         \n",
      "3 -118.247340                      ...                         \n",
      "4 -118.363556                      ...                         \n",
      "\n",
      "  general_market_m_reservation_requests_0_6_ds_night  \\\n",
      "0                                          41.428571   \n",
      "1                                          51.714286   \n",
      "2                                          51.714286   \n",
      "3                                          41.857143   \n",
      "4                                          78.857143   \n",
      "\n",
      "   general_market_m_is_booked_0_6_ds_night  m_available_listings_ds_night  \\\n",
      "0                                      1.0                           9840   \n",
      "1                                      1.0                           9599   \n",
      "2                                      1.0                           9514   \n",
      "3                                      1.0                           9739   \n",
      "4                                      1.0                           9114   \n",
      "\n",
      "   kdt_score  r_kdt_listing_views_0_6_avg_n100  r_kdt_n_active_n100  \\\n",
      "0   1.314286                          1.795918                 57.0   \n",
      "1   0.535714                          2.693878                 49.0   \n",
      "2   0.714286                          2.775510                 49.0   \n",
      "3   1.744681                          4.576531                113.0   \n",
      "4   1.200000                          4.877551                 97.0   \n",
      "\n",
      "   r_kdt_n_available_n100  r_kdt_m_effective_daily_price_n100_p50  \\\n",
      "0                    48.0                                    79.0   \n",
      "1                    36.0                                    65.0   \n",
      "2                    35.0                                    65.0   \n",
      "3                    52.0                                   120.0   \n",
      "4                    57.0                                   150.0   \n",
      "\n",
      "   r_kdt_m_effective_daily_price_available_n100_p50  \\\n",
      "0                                              75.0   \n",
      "1                                              65.0   \n",
      "2                                              66.5   \n",
      "3                                             115.0   \n",
      "4                                             157.5   \n",
      "\n",
      "   r_kdt_m_effective_daily_price_booked_n100_p50  \n",
      "0                                           98.0  \n",
      "1                                           42.0  \n",
      "2                                           46.0  \n",
      "3                                          115.0  \n",
      "4                                          164.5  \n",
      "\n",
      "[5 rows x 46 columns]\n"
     ]
    }
   ],
   "source": [
    "print df.head()"
   ]
  },
  {
   "cell_type": "code",
   "execution_count": 39,
   "metadata": {},
   "outputs": [
    {
     "name": "stdout",
     "output_type": "stream",
     "text": [
      "dim_is_requested                                         bool\n",
      "ds_night                                               object\n",
      "ds                                                     object\n",
      "id_listing_anon                                        object\n",
      "id_user_anon                                           object\n",
      "m_effective_daily_price                               float64\n",
      "m_pricing_cleaning_fee                                float64\n",
      "dim_market                                             object\n",
      "dim_lat                                               float64\n",
      "dim_lng                                               float64\n",
      "dim_room_type                                          object\n",
      "dim_person_capacity                                     int64\n",
      "dim_is_instant_bookable                                  bool\n",
      "m_checkouts                                           float64\n",
      "m_reviews                                             float64\n",
      "days_since_last_booking                               float64\n",
      "cancel_policy                                           int64\n",
      "image_quality_score                                   float64\n",
      "m_total_overall_rating                                float64\n",
      "m_professional_pictures                               float64\n",
      "dim_has_wireless_internet                               int64\n",
      "ds_night_day_of_week                                    int64\n",
      "ds_night_day_of_year                                    int64\n",
      "ds_checkin_gap                                        float64\n",
      "ds_checkout_gap                                       float64\n",
      "occ_occupancy_plus_minus_7_ds_night                   float64\n",
      "occ_occupancy_plus_minus_14_ds_night                  float64\n",
      "occ_occupancy_trailing_90_ds                          float64\n",
      "m_minimum_nights                                      float64\n",
      "m_maximum_nights                                      float64\n",
      "price_booked_most_recent                              float64\n",
      "p2_p3_click_through_score                             float64\n",
      "p3_inquiry_score                                      float64\n",
      "listing_m_listing_views_2_6_ds_night_decay            float64\n",
      "general_market_m_unique_searchers_0_6_ds_night        float64\n",
      "general_market_m_contacts_0_6_ds_night                float64\n",
      "general_market_m_reservation_requests_0_6_ds_night    float64\n",
      "general_market_m_is_booked_0_6_ds_night               float64\n",
      "m_available_listings_ds_night                           int64\n",
      "kdt_score                                             float64\n",
      "r_kdt_listing_views_0_6_avg_n100                      float64\n",
      "r_kdt_n_active_n100                                   float64\n",
      "r_kdt_n_available_n100                                float64\n",
      "r_kdt_m_effective_daily_price_n100_p50                float64\n",
      "r_kdt_m_effective_daily_price_available_n100_p50      float64\n",
      "r_kdt_m_effective_daily_price_booked_n100_p50         float64\n",
      "dtype: object\n"
     ]
    }
   ],
   "source": [
    "print df.dtypes"
   ]
  },
  {
   "cell_type": "code",
   "execution_count": 29,
   "metadata": {},
   "outputs": [],
   "source": [
    "#df['ds_night'] = pd.to_datetime(df['ds_night'])\n",
    "#df['ds'] = pd.to_datetime(df['ds'])\n"
   ]
  },
  {
   "cell_type": "code",
   "execution_count": 30,
   "metadata": {},
   "outputs": [],
   "source": [
    "#df.dtypes"
   ]
  },
  {
   "cell_type": "code",
   "execution_count": 31,
   "metadata": {},
   "outputs": [
    {
     "ename": "KeyError",
     "evalue": "'A'",
     "output_type": "error",
     "traceback": [
      "\u001b[0;31m---------------------------------------------------------------------------\u001b[0m",
      "\u001b[0;31mKeyError\u001b[0m                                  Traceback (most recent call last)",
      "\u001b[0;32m<ipython-input-31-56a512203ef6>\u001b[0m in \u001b[0;36m<module>\u001b[0;34m()\u001b[0m\n\u001b[0;32m----> 1\u001b[0;31m \u001b[0mdf\u001b[0m\u001b[0;34m[\u001b[0m\u001b[0;34m'C'\u001b[0m\u001b[0;34m]\u001b[0m \u001b[0;34m=\u001b[0m \u001b[0mdf\u001b[0m\u001b[0;34m[\u001b[0m\u001b[0;34m'A'\u001b[0m\u001b[0;34m]\u001b[0m \u001b[0;34m-\u001b[0m \u001b[0mdf\u001b[0m\u001b[0;34m[\u001b[0m\u001b[0;34m'B'\u001b[0m\u001b[0;34m]\u001b[0m\u001b[0;34m\u001b[0m\u001b[0m\n\u001b[0m",
      "\u001b[0;32m/anaconda3/lib/python2.7/site-packages/pandas/core/frame.pyc\u001b[0m in \u001b[0;36m__getitem__\u001b[0;34m(self, key)\u001b[0m\n\u001b[1;32m   2686\u001b[0m             \u001b[0;32mreturn\u001b[0m \u001b[0mself\u001b[0m\u001b[0;34m.\u001b[0m\u001b[0m_getitem_multilevel\u001b[0m\u001b[0;34m(\u001b[0m\u001b[0mkey\u001b[0m\u001b[0;34m)\u001b[0m\u001b[0;34m\u001b[0m\u001b[0m\n\u001b[1;32m   2687\u001b[0m         \u001b[0;32melse\u001b[0m\u001b[0;34m:\u001b[0m\u001b[0;34m\u001b[0m\u001b[0m\n\u001b[0;32m-> 2688\u001b[0;31m             \u001b[0;32mreturn\u001b[0m \u001b[0mself\u001b[0m\u001b[0;34m.\u001b[0m\u001b[0m_getitem_column\u001b[0m\u001b[0;34m(\u001b[0m\u001b[0mkey\u001b[0m\u001b[0;34m)\u001b[0m\u001b[0;34m\u001b[0m\u001b[0m\n\u001b[0m\u001b[1;32m   2689\u001b[0m \u001b[0;34m\u001b[0m\u001b[0m\n\u001b[1;32m   2690\u001b[0m     \u001b[0;32mdef\u001b[0m \u001b[0m_getitem_column\u001b[0m\u001b[0;34m(\u001b[0m\u001b[0mself\u001b[0m\u001b[0;34m,\u001b[0m \u001b[0mkey\u001b[0m\u001b[0;34m)\u001b[0m\u001b[0;34m:\u001b[0m\u001b[0;34m\u001b[0m\u001b[0m\n",
      "\u001b[0;32m/anaconda3/lib/python2.7/site-packages/pandas/core/frame.pyc\u001b[0m in \u001b[0;36m_getitem_column\u001b[0;34m(self, key)\u001b[0m\n\u001b[1;32m   2693\u001b[0m         \u001b[0;31m# get column\u001b[0m\u001b[0;34m\u001b[0m\u001b[0;34m\u001b[0m\u001b[0m\n\u001b[1;32m   2694\u001b[0m         \u001b[0;32mif\u001b[0m \u001b[0mself\u001b[0m\u001b[0;34m.\u001b[0m\u001b[0mcolumns\u001b[0m\u001b[0;34m.\u001b[0m\u001b[0mis_unique\u001b[0m\u001b[0;34m:\u001b[0m\u001b[0;34m\u001b[0m\u001b[0m\n\u001b[0;32m-> 2695\u001b[0;31m             \u001b[0;32mreturn\u001b[0m \u001b[0mself\u001b[0m\u001b[0;34m.\u001b[0m\u001b[0m_get_item_cache\u001b[0m\u001b[0;34m(\u001b[0m\u001b[0mkey\u001b[0m\u001b[0;34m)\u001b[0m\u001b[0;34m\u001b[0m\u001b[0m\n\u001b[0m\u001b[1;32m   2696\u001b[0m \u001b[0;34m\u001b[0m\u001b[0m\n\u001b[1;32m   2697\u001b[0m         \u001b[0;31m# duplicate columns & possible reduce dimensionality\u001b[0m\u001b[0;34m\u001b[0m\u001b[0;34m\u001b[0m\u001b[0m\n",
      "\u001b[0;32m/anaconda3/lib/python2.7/site-packages/pandas/core/generic.pyc\u001b[0m in \u001b[0;36m_get_item_cache\u001b[0;34m(self, item)\u001b[0m\n\u001b[1;32m   2487\u001b[0m         \u001b[0mres\u001b[0m \u001b[0;34m=\u001b[0m \u001b[0mcache\u001b[0m\u001b[0;34m.\u001b[0m\u001b[0mget\u001b[0m\u001b[0;34m(\u001b[0m\u001b[0mitem\u001b[0m\u001b[0;34m)\u001b[0m\u001b[0;34m\u001b[0m\u001b[0m\n\u001b[1;32m   2488\u001b[0m         \u001b[0;32mif\u001b[0m \u001b[0mres\u001b[0m \u001b[0;32mis\u001b[0m \u001b[0mNone\u001b[0m\u001b[0;34m:\u001b[0m\u001b[0;34m\u001b[0m\u001b[0m\n\u001b[0;32m-> 2489\u001b[0;31m             \u001b[0mvalues\u001b[0m \u001b[0;34m=\u001b[0m \u001b[0mself\u001b[0m\u001b[0;34m.\u001b[0m\u001b[0m_data\u001b[0m\u001b[0;34m.\u001b[0m\u001b[0mget\u001b[0m\u001b[0;34m(\u001b[0m\u001b[0mitem\u001b[0m\u001b[0;34m)\u001b[0m\u001b[0;34m\u001b[0m\u001b[0m\n\u001b[0m\u001b[1;32m   2490\u001b[0m             \u001b[0mres\u001b[0m \u001b[0;34m=\u001b[0m \u001b[0mself\u001b[0m\u001b[0;34m.\u001b[0m\u001b[0m_box_item_values\u001b[0m\u001b[0;34m(\u001b[0m\u001b[0mitem\u001b[0m\u001b[0;34m,\u001b[0m \u001b[0mvalues\u001b[0m\u001b[0;34m)\u001b[0m\u001b[0;34m\u001b[0m\u001b[0m\n\u001b[1;32m   2491\u001b[0m             \u001b[0mcache\u001b[0m\u001b[0;34m[\u001b[0m\u001b[0mitem\u001b[0m\u001b[0;34m]\u001b[0m \u001b[0;34m=\u001b[0m \u001b[0mres\u001b[0m\u001b[0;34m\u001b[0m\u001b[0m\n",
      "\u001b[0;32m/anaconda3/lib/python2.7/site-packages/pandas/core/internals.pyc\u001b[0m in \u001b[0;36mget\u001b[0;34m(self, item, fastpath)\u001b[0m\n\u001b[1;32m   4113\u001b[0m \u001b[0;34m\u001b[0m\u001b[0m\n\u001b[1;32m   4114\u001b[0m             \u001b[0;32mif\u001b[0m \u001b[0;32mnot\u001b[0m \u001b[0misna\u001b[0m\u001b[0;34m(\u001b[0m\u001b[0mitem\u001b[0m\u001b[0;34m)\u001b[0m\u001b[0;34m:\u001b[0m\u001b[0;34m\u001b[0m\u001b[0m\n\u001b[0;32m-> 4115\u001b[0;31m                 \u001b[0mloc\u001b[0m \u001b[0;34m=\u001b[0m \u001b[0mself\u001b[0m\u001b[0;34m.\u001b[0m\u001b[0mitems\u001b[0m\u001b[0;34m.\u001b[0m\u001b[0mget_loc\u001b[0m\u001b[0;34m(\u001b[0m\u001b[0mitem\u001b[0m\u001b[0;34m)\u001b[0m\u001b[0;34m\u001b[0m\u001b[0m\n\u001b[0m\u001b[1;32m   4116\u001b[0m             \u001b[0;32melse\u001b[0m\u001b[0;34m:\u001b[0m\u001b[0;34m\u001b[0m\u001b[0m\n\u001b[1;32m   4117\u001b[0m                 \u001b[0mindexer\u001b[0m \u001b[0;34m=\u001b[0m \u001b[0mnp\u001b[0m\u001b[0;34m.\u001b[0m\u001b[0marange\u001b[0m\u001b[0;34m(\u001b[0m\u001b[0mlen\u001b[0m\u001b[0;34m(\u001b[0m\u001b[0mself\u001b[0m\u001b[0;34m.\u001b[0m\u001b[0mitems\u001b[0m\u001b[0;34m)\u001b[0m\u001b[0;34m)\u001b[0m\u001b[0;34m[\u001b[0m\u001b[0misna\u001b[0m\u001b[0;34m(\u001b[0m\u001b[0mself\u001b[0m\u001b[0;34m.\u001b[0m\u001b[0mitems\u001b[0m\u001b[0;34m)\u001b[0m\u001b[0;34m]\u001b[0m\u001b[0;34m\u001b[0m\u001b[0m\n",
      "\u001b[0;32m/anaconda3/lib/python2.7/site-packages/pandas/core/indexes/base.pyc\u001b[0m in \u001b[0;36mget_loc\u001b[0;34m(self, key, method, tolerance)\u001b[0m\n\u001b[1;32m   3078\u001b[0m                 \u001b[0;32mreturn\u001b[0m \u001b[0mself\u001b[0m\u001b[0;34m.\u001b[0m\u001b[0m_engine\u001b[0m\u001b[0;34m.\u001b[0m\u001b[0mget_loc\u001b[0m\u001b[0;34m(\u001b[0m\u001b[0mkey\u001b[0m\u001b[0;34m)\u001b[0m\u001b[0;34m\u001b[0m\u001b[0m\n\u001b[1;32m   3079\u001b[0m             \u001b[0;32mexcept\u001b[0m \u001b[0mKeyError\u001b[0m\u001b[0;34m:\u001b[0m\u001b[0;34m\u001b[0m\u001b[0m\n\u001b[0;32m-> 3080\u001b[0;31m                 \u001b[0;32mreturn\u001b[0m \u001b[0mself\u001b[0m\u001b[0;34m.\u001b[0m\u001b[0m_engine\u001b[0m\u001b[0;34m.\u001b[0m\u001b[0mget_loc\u001b[0m\u001b[0;34m(\u001b[0m\u001b[0mself\u001b[0m\u001b[0;34m.\u001b[0m\u001b[0m_maybe_cast_indexer\u001b[0m\u001b[0;34m(\u001b[0m\u001b[0mkey\u001b[0m\u001b[0;34m)\u001b[0m\u001b[0;34m)\u001b[0m\u001b[0;34m\u001b[0m\u001b[0m\n\u001b[0m\u001b[1;32m   3081\u001b[0m \u001b[0;34m\u001b[0m\u001b[0m\n\u001b[1;32m   3082\u001b[0m         \u001b[0mindexer\u001b[0m \u001b[0;34m=\u001b[0m \u001b[0mself\u001b[0m\u001b[0;34m.\u001b[0m\u001b[0mget_indexer\u001b[0m\u001b[0;34m(\u001b[0m\u001b[0;34m[\u001b[0m\u001b[0mkey\u001b[0m\u001b[0;34m]\u001b[0m\u001b[0;34m,\u001b[0m \u001b[0mmethod\u001b[0m\u001b[0;34m=\u001b[0m\u001b[0mmethod\u001b[0m\u001b[0;34m,\u001b[0m \u001b[0mtolerance\u001b[0m\u001b[0;34m=\u001b[0m\u001b[0mtolerance\u001b[0m\u001b[0;34m)\u001b[0m\u001b[0;34m\u001b[0m\u001b[0m\n",
      "\u001b[0;32mpandas/_libs/index.pyx\u001b[0m in \u001b[0;36mpandas._libs.index.IndexEngine.get_loc\u001b[0;34m()\u001b[0m\n",
      "\u001b[0;32mpandas/_libs/index.pyx\u001b[0m in \u001b[0;36mpandas._libs.index.IndexEngine.get_loc\u001b[0;34m()\u001b[0m\n",
      "\u001b[0;32mpandas/_libs/hashtable_class_helper.pxi\u001b[0m in \u001b[0;36mpandas._libs.hashtable.PyObjectHashTable.get_item\u001b[0;34m()\u001b[0m\n",
      "\u001b[0;32mpandas/_libs/hashtable_class_helper.pxi\u001b[0m in \u001b[0;36mpandas._libs.hashtable.PyObjectHashTable.get_item\u001b[0;34m()\u001b[0m\n",
      "\u001b[0;31mKeyError\u001b[0m: 'A'"
     ]
    }
   ],
   "source": [
    " df['C'] = df['A'] - df['B']"
   ]
  },
  {
   "cell_type": "code",
   "execution_count": 4,
   "metadata": {},
   "outputs": [
    {
     "name": "stdout",
     "output_type": "stream",
     "text": [
      "False    123769\n",
      "True      60510\n",
      "Name: dim_is_requested, dtype: int64\n",
      "Paris            113704\n",
      "Los Angeles       52698\n",
      "San Francisco     17877\n",
      "Name: dim_market, dtype: int64\n"
     ]
    }
   ],
   "source": [
    "print items['dim_is_requested'].value_counts()\n",
    "items['id_listing_anon'].value_counts()\n",
    "print items['dim_market'].value_counts()"
   ]
  },
  {
   "cell_type": "code",
   "execution_count": 34,
   "metadata": {},
   "outputs": [],
   "source": [
    "df['days']=(df['ds_night']-df['ds'])"
   ]
  },
  {
   "cell_type": "code",
   "execution_count": 35,
   "metadata": {},
   "outputs": [
    {
     "data": {
      "text/plain": [
       "0        30 days\n",
       "1        30 days\n",
       "2        30 days\n",
       "3        30 days\n",
       "4        30 days\n",
       "5        30 days\n",
       "6        30 days\n",
       "7        30 days\n",
       "8        30 days\n",
       "9        30 days\n",
       "10       30 days\n",
       "11       30 days\n",
       "12       30 days\n",
       "13       30 days\n",
       "14       30 days\n",
       "15       30 days\n",
       "16       30 days\n",
       "17       30 days\n",
       "18       30 days\n",
       "19       30 days\n",
       "20       30 days\n",
       "21       30 days\n",
       "22       30 days\n",
       "23       30 days\n",
       "24       30 days\n",
       "25       30 days\n",
       "26       30 days\n",
       "27       30 days\n",
       "28       30 days\n",
       "29       30 days\n",
       "           ...  \n",
       "184249   30 days\n",
       "184250   30 days\n",
       "184251   30 days\n",
       "184252   30 days\n",
       "184253   30 days\n",
       "184254   30 days\n",
       "184255   30 days\n",
       "184256   30 days\n",
       "184257   30 days\n",
       "184258   30 days\n",
       "184259   30 days\n",
       "184260   30 days\n",
       "184261   30 days\n",
       "184262   30 days\n",
       "184263   30 days\n",
       "184264   30 days\n",
       "184265   30 days\n",
       "184266   30 days\n",
       "184267   30 days\n",
       "184268   30 days\n",
       "184269   30 days\n",
       "184270   30 days\n",
       "184271   30 days\n",
       "184272   30 days\n",
       "184273   30 days\n",
       "184274   30 days\n",
       "184275   30 days\n",
       "184276   30 days\n",
       "184277   30 days\n",
       "184278   30 days\n",
       "Name: days, Length: 184279, dtype: timedelta64[ns]"
      ]
     },
     "execution_count": 35,
     "metadata": {},
     "output_type": "execute_result"
    }
   ],
   "source": [
    "df['days']"
   ]
  },
  {
   "cell_type": "code",
   "execution_count": 8,
   "metadata": {},
   "outputs": [
    {
     "name": "stdout",
     "output_type": "stream",
     "text": [
      "46\n",
      "['dim_is_requested', 'ds_night', 'ds', 'id_listing_anon', 'id_user_anon', 'm_effective_daily_price', 'm_pricing_cleaning_fee', 'dim_market', 'dim_lat', 'dim_lng', 'dim_room_type', 'dim_person_capacity', 'dim_is_instant_bookable', 'm_checkouts', 'm_reviews', 'days_since_last_booking', 'cancel_policy', 'image_quality_score', 'm_total_overall_rating', 'm_professional_pictures', 'dim_has_wireless_internet', 'ds_night_day_of_week', 'ds_night_day_of_year', 'ds_checkin_gap', 'ds_checkout_gap', 'occ_occupancy_plus_minus_7_ds_night', 'occ_occupancy_plus_minus_14_ds_night', 'occ_occupancy_trailing_90_ds', 'm_minimum_nights', 'm_maximum_nights', 'price_booked_most_recent', 'p2_p3_click_through_score', 'p3_inquiry_score', 'listing_m_listing_views_2_6_ds_night_decay', 'general_market_m_unique_searchers_0_6_ds_night', 'general_market_m_contacts_0_6_ds_night', 'general_market_m_reservation_requests_0_6_ds_night', 'general_market_m_is_booked_0_6_ds_night', 'm_available_listings_ds_night', 'kdt_score', 'r_kdt_listing_views_0_6_avg_n100', 'r_kdt_n_active_n100', 'r_kdt_n_available_n100', 'r_kdt_m_effective_daily_price_n100_p50', 'r_kdt_m_effective_daily_price_available_n100_p50', 'r_kdt_m_effective_daily_price_booked_n100_p50']\n"
     ]
    }
   ],
   "source": [
    "dict_x={}\n",
    "dict_y={}\n",
    "with open(\"data.csv\") as fd:\n",
    "    rd = csv.reader(fd, delimiter=\"\\t\", quotechar='\"')\n",
    "    i = rd.next()\n",
    "    for row in rd:\n",
    "        #x.append(row)\n",
    "        if(row[3] in dict_x):\n",
    "            dict_x[row[3]].append(row[5:])\n",
    "        else:\n",
    "            dict_x[row[3]]=[row[:3]+row[5:]]\n",
    "        if(row[3] in dict_y):\n",
    "            dict_y[row[3]].append(row[0])\n",
    "        else:\n",
    "            dict_y[row[3]]=[row[0]]\n",
    "print len(i)\n",
    "print i"
   ]
  },
  {
   "cell_type": "code",
   "execution_count": 14,
   "metadata": {},
   "outputs": [
    {
     "name": "stdout",
     "output_type": "stream",
     "text": [
      "10443\n"
     ]
    }
   ],
   "source": [
    "print len(dict_.keys())"
   ]
  },
  {
   "cell_type": "code",
   "execution_count": null,
   "metadata": {},
   "outputs": [],
   "source": [
    "for k in dict_.keys():\n",
    "    print len(dict_[k])"
   ]
  },
  {
   "cell_type": "code",
   "execution_count": 9,
   "metadata": {},
   "outputs": [
    {
     "name": "stderr",
     "output_type": "stream",
     "text": [
      "Using TensorFlow backend.\n"
     ]
    },
    {
     "ename": "ImportError",
     "evalue": "No module named matplotlib.pyplot",
     "output_type": "error",
     "traceback": [
      "\u001b[0;31m---------------------------------------------------------------------------\u001b[0m",
      "\u001b[0;31mImportError\u001b[0m                               Traceback (most recent call last)",
      "\u001b[0;32m<ipython-input-9-cab6fdcdefac>\u001b[0m in \u001b[0;36m<module>\u001b[0;34m()\u001b[0m\n\u001b[1;32m     11\u001b[0m \u001b[0;34m\u001b[0m\u001b[0m\n\u001b[1;32m     12\u001b[0m \u001b[0;31m# Viz\u001b[0m\u001b[0;34m\u001b[0m\u001b[0;34m\u001b[0m\u001b[0m\n\u001b[0;32m---> 13\u001b[0;31m \u001b[0;32mimport\u001b[0m \u001b[0mmatplotlib\u001b[0m\u001b[0;34m.\u001b[0m\u001b[0mpyplot\u001b[0m \u001b[0;32mas\u001b[0m \u001b[0mplt\u001b[0m\u001b[0;34m\u001b[0m\u001b[0m\n\u001b[0m",
      "\u001b[0;31mImportError\u001b[0m: No module named matplotlib.pyplot"
     ]
    }
   ],
   "source": [
    "import numpy as np # linear algebra\n",
    "import pandas as pd # data processing, CSV file I/O (e.g. pd.read_csv)\n",
    "from keras.models import Sequential\n",
    "from keras.layers import LSTM, Dense, Activation, ThresholdedReLU, MaxPooling2D, Embedding, Dropout\n",
    "from keras.optimizers import Adam, SGD, RMSprop\n",
    "from keras import backend as K\n",
    "from sklearn.model_selection import train_test_split\n",
    "from keras.callbacks import EarlyStopping\n",
    "from sklearn.preprocessing import MinMaxScaler\n",
    "import gc\n",
    "\n",
    "# Viz\n",
    "#import matplotlib.pyplot as plt"
   ]
  },
  {
   "cell_type": "code",
   "execution_count": 10,
   "metadata": {},
   "outputs": [
    {
     "ename": "NameError",
     "evalue": "name 'X' is not defined",
     "output_type": "error",
     "traceback": [
      "\u001b[0;31m---------------------------------------------------------------------------\u001b[0m",
      "\u001b[0;31mNameError\u001b[0m                                 Traceback (most recent call last)",
      "\u001b[0;32m<ipython-input-10-99757dba3eb9>\u001b[0m in \u001b[0;36m<module>\u001b[0;34m()\u001b[0m\n\u001b[1;32m      1\u001b[0m \u001b[0;31m# Define the model layers\u001b[0m\u001b[0;34m\u001b[0m\u001b[0;34m\u001b[0m\u001b[0m\n\u001b[1;32m      2\u001b[0m \u001b[0mmodel_lstm\u001b[0m \u001b[0;34m=\u001b[0m \u001b[0mSequential\u001b[0m\u001b[0;34m(\u001b[0m\u001b[0;34m)\u001b[0m\u001b[0;34m\u001b[0m\u001b[0m\n\u001b[0;32m----> 3\u001b[0;31m \u001b[0mmodel_lstm\u001b[0m\u001b[0;34m.\u001b[0m\u001b[0madd\u001b[0m\u001b[0;34m(\u001b[0m\u001b[0mLSTM\u001b[0m\u001b[0;34m(\u001b[0m\u001b[0;36m16\u001b[0m\u001b[0;34m,\u001b[0m \u001b[0minput_shape\u001b[0m\u001b[0;34m=\u001b[0m\u001b[0;34m(\u001b[0m\u001b[0mX\u001b[0m\u001b[0;34m.\u001b[0m\u001b[0mshape\u001b[0m\u001b[0;34m[\u001b[0m\u001b[0;36m1\u001b[0m\u001b[0;34m]\u001b[0m\u001b[0;34m,\u001b[0m \u001b[0mX\u001b[0m\u001b[0;34m.\u001b[0m\u001b[0mshape\u001b[0m\u001b[0;34m[\u001b[0m\u001b[0;36m2\u001b[0m\u001b[0;34m]\u001b[0m\u001b[0;34m)\u001b[0m\u001b[0;34m,\u001b[0m\u001b[0mreturn_sequences\u001b[0m\u001b[0;34m=\u001b[0m\u001b[0mTrue\u001b[0m\u001b[0;34m)\u001b[0m\u001b[0;34m)\u001b[0m\u001b[0;34m\u001b[0m\u001b[0m\n\u001b[0m\u001b[1;32m      4\u001b[0m \u001b[0mmodel_lstm\u001b[0m\u001b[0;34m.\u001b[0m\u001b[0madd\u001b[0m\u001b[0;34m(\u001b[0m\u001b[0mDropout\u001b[0m\u001b[0;34m(\u001b[0m\u001b[0;36m0.5\u001b[0m\u001b[0;34m)\u001b[0m\u001b[0;34m)\u001b[0m\u001b[0;34m\u001b[0m\u001b[0m\n\u001b[1;32m      5\u001b[0m \u001b[0mmodel_lstm\u001b[0m\u001b[0;34m.\u001b[0m\u001b[0madd\u001b[0m\u001b[0;34m(\u001b[0m\u001b[0mLSTM\u001b[0m\u001b[0;34m(\u001b[0m\u001b[0;36m32\u001b[0m\u001b[0;34m)\u001b[0m\u001b[0;34m)\u001b[0m\u001b[0;34m\u001b[0m\u001b[0m\n",
      "\u001b[0;31mNameError\u001b[0m: name 'X' is not defined"
     ]
    }
   ],
   "source": [
    "# Define the model layers\n",
    "model_lstm = Sequential()\n",
    "model_lstm.add(LSTM(16, input_shape=(X.shape[1], X.shape[2]),return_sequences=True))\n",
    "model_lstm.add(Dropout(0.5))\n",
    "model_lstm.add(LSTM(32))\n",
    "model_lstm.add(Dropout(0.5))\n",
    "model_lstm.add(Dense(1))\n",
    "model_lstm.compile(optimizer=\"adam\", loss='mse', metrics=[\"mse\"])\n",
    "print(model_lstm.summary())"
   ]
  },
  {
   "cell_type": "code",
   "execution_count": null,
   "metadata": {},
   "outputs": [],
   "source": [
    "#Train Model\n",
    "print(\"\\nFit Model\")\n",
    "VALID = True\n",
    "LSTM_PARAM = {\"batch_size\":128,\n",
    "              \"verbose\":2,\n",
    "              \"epochs\":10}\n",
    "\n",
    "modelstart = time.time()\n",
    "if VALID is True:\n",
    "    X_train, X_valid, y_train, y_valid = train_test_split(X, y, test_size=0.10, random_state=1, shuffle=False)\n",
    "    # del X,y; gc.collect()\n",
    "    print(\"X Train Shape: \",X_train.shape)\n",
    "    print(\"X Valid Shape: \",X_valid.shape)\n",
    "    print(\"y Train Shape: \",y_train.shape)\n",
    "    print(\"y Valid Shape: \",y_valid.shape)\n",
    "    \n",
    "    callbacks_list=[EarlyStopping(monitor=\"val_loss\",min_delta=.001, patience=3,mode='auto')]\n",
    "    hist = model_lstm.fit(X_train, y_train,\n",
    "                          validation_data=(X_valid, y_valid),\n",
    "                          callbacks=callbacks_list,\n",
    "                          **LSTM_PARAM)\n",
    "    pred = model_lstm.predict(test)\n"
   ]
  },
  {
   "cell_type": "code",
   "execution_count": null,
   "metadata": {},
   "outputs": [],
   "source": [
    "best = np.argmin(hist.history[\"val_loss\"])\n",
    "print(\"Optimal Epoch: {}\",best)\n",
    "print(\"Train Score: {}, Validation Score: {}\".format(hist.history[\"loss\"][best],hist.history[\"val_loss\"][best]))\n",
    "\n",
    "plt.plot(hist.history['loss'], label='train')\n",
    "plt.plot(hist.history['val_loss'], label='validation')\n",
    "plt.xlabel(\"Epochs\")\n",
    "plt.ylabel(\"Mean Square Error\")\n",
    "plt.legend()\n",
    "plt.show()\n",
    "plt.savefig(\"Train and Validation MSE Progression.png\")\n",
    "\n",
    "if VALID is False:\n",
    "    print(\"X Shape: \",X.shape)\n",
    "    print(\"y Shape: \",y.shape)\n",
    "    hist = model_lstm.fit(X,y,**LSTM_PARAM)\n",
    "    pred = model_lstm.predict(X)\n",
    "    \n",
    "    plt.plot(hist.history['loss'], label='Training Loss')\n",
    "    plt.xlabel(\"Epochs\")\n",
    "    plt.ylabel(\"Mean Square Error\")\n",
    "    plt.legend()\n",
    "    plt.show()\n",
    "    plt.savefig(\"Training Loss Progression.png\")\n"
   ]
  },
  {
   "cell_type": "code",
   "execution_count": null,
   "metadata": {},
   "outputs": [],
   "source": [
    "print(\"\\Output Submission\")\n",
    "submission = pd.DataFrame(pred,columns=['item_cnt_month'])\n",
    "submission.to_csv('submission.csv',index_label='ID')\n",
    "print(submission.head())\n",
    "print(\"\\nModel Runtime: %0.2f Minutes\"%((time.time() - modelstart)/60))\n",
    "print(\"Notebook Runtime: %0.2f Minutes\"%((time.time() - notebookstart)/60))"
   ]
  }
 ],
 "metadata": {
  "kernelspec": {
   "display_name": "Python 2",
   "language": "python",
   "name": "python2"
  },
  "language_info": {
   "codemirror_mode": {
    "name": "ipython",
    "version": 2
   },
   "file_extension": ".py",
   "mimetype": "text/x-python",
   "name": "python",
   "nbconvert_exporter": "python",
   "pygments_lexer": "ipython2",
   "version": "2.7.15"
  }
 },
 "nbformat": 4,
 "nbformat_minor": 2
}
