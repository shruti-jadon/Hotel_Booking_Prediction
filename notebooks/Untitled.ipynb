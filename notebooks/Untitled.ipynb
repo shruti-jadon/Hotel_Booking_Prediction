{
 "cells": [
  {
   "cell_type": "code",
   "execution_count": 1,
   "metadata": {},
   "outputs": [
    {
     "ename": "ImportError",
     "evalue": "No module named matplotlib.pyplot",
     "output_type": "error",
     "traceback": [
      "\u001b[0;31m---------------------------------------------------------------------------\u001b[0m",
      "\u001b[0;31mImportError\u001b[0m                               Traceback (most recent call last)",
      "\u001b[0;32m<ipython-input-1-3a22e9c98365>\u001b[0m in \u001b[0;36m<module>\u001b[0;34m()\u001b[0m\n\u001b[1;32m      2\u001b[0m \u001b[0;32mimport\u001b[0m \u001b[0mnumpy\u001b[0m \u001b[0;32mas\u001b[0m \u001b[0mnp\u001b[0m\u001b[0;34m\u001b[0m\u001b[0m\n\u001b[1;32m      3\u001b[0m \u001b[0;32mimport\u001b[0m \u001b[0mpandas\u001b[0m \u001b[0;32mas\u001b[0m \u001b[0mpd\u001b[0m\u001b[0;34m\u001b[0m\u001b[0m\n\u001b[0;32m----> 4\u001b[0;31m \u001b[0;32mimport\u001b[0m \u001b[0mmatplotlib\u001b[0m\u001b[0;34m.\u001b[0m\u001b[0mpyplot\u001b[0m \u001b[0;32mas\u001b[0m \u001b[0mplt\u001b[0m\u001b[0;34m\u001b[0m\u001b[0m\n\u001b[0m\u001b[1;32m      5\u001b[0m \u001b[0mget_ipython\u001b[0m\u001b[0;34m(\u001b[0m\u001b[0;34m)\u001b[0m\u001b[0;34m.\u001b[0m\u001b[0mmagic\u001b[0m\u001b[0;34m(\u001b[0m\u001b[0;34mu'matplotlib inline'\u001b[0m\u001b[0;34m)\u001b[0m\u001b[0;34m\u001b[0m\u001b[0m\n\u001b[1;32m      6\u001b[0m \u001b[0;31m# tsv_file='TH_data_challenge.tsv'\u001b[0m\u001b[0;34m\u001b[0m\u001b[0;34m\u001b[0m\u001b[0m\n",
      "\u001b[0;31mImportError\u001b[0m: No module named matplotlib.pyplot"
     ]
    }
   ],
   "source": [
    "import pandas as pd\n",
    "import numpy as np\n",
    "import pandas as pd\n",
    "import matplotlib.pyplot as plt\n",
    "%matplotlib inline  \n",
    "# tsv_file='TH_data_challenge.tsv'\n",
    "# csv_table=pd.read_table(tsv_file,sep='\\t')\n",
    "# csv_table.to_csv('data_.csv',index=False)"
   ]
  },
  {
   "cell_type": "code",
   "execution_count": 238,
   "metadata": {},
   "outputs": [],
   "source": [
    "df = pd.read_csv('data_.csv', sep=',')"
   ]
  },
  {
   "cell_type": "code",
   "execution_count": 239,
   "metadata": {},
   "outputs": [],
   "source": [
    "Y=df.loc[:, :'dim_is_requested']\n",
    "df.drop(df.columns[[0,1,2,3,4]], axis=1, inplace=True)\n",
    "#print df.head()"
   ]
  },
  {
   "cell_type": "code",
   "execution_count": 240,
   "metadata": {},
   "outputs": [],
   "source": [
    "def myfillna(series):\n",
    "    if series.dtype is pd.np.dtype(float):\n",
    "        #print (\"found\")\n",
    "        return series.fillna(-1)\n",
    "    elif series.dtype is pd.np.dtype(object):\n",
    "        #print (\"case2\")\n",
    "        return series.fillna('.')\n",
    "    else:\n",
    "        return series"
   ]
  },
  {
   "cell_type": "code",
   "execution_count": 241,
   "metadata": {},
   "outputs": [
    {
     "name": "stdout",
     "output_type": "stream",
     "text": [
      "m_effective_daily_price                               float64\n",
      "m_pricing_cleaning_fee                                float64\n",
      "dim_market                                             object\n",
      "dim_lat                                               float64\n",
      "dim_lng                                               float64\n",
      "dim_room_type                                          object\n",
      "dim_person_capacity                                     int64\n",
      "dim_is_instant_bookable                                  bool\n",
      "m_checkouts                                           float64\n",
      "m_reviews                                             float64\n",
      "days_since_last_booking                               float64\n",
      "cancel_policy                                           int64\n",
      "image_quality_score                                   float64\n",
      "m_total_overall_rating                                float64\n",
      "m_professional_pictures                               float64\n",
      "dim_has_wireless_internet                               int64\n",
      "ds_night_day_of_week                                    int64\n",
      "ds_night_day_of_year                                    int64\n",
      "ds_checkin_gap                                        float64\n",
      "ds_checkout_gap                                       float64\n",
      "occ_occupancy_plus_minus_7_ds_night                   float64\n",
      "occ_occupancy_plus_minus_14_ds_night                  float64\n",
      "occ_occupancy_trailing_90_ds                          float64\n",
      "m_minimum_nights                                      float64\n",
      "m_maximum_nights                                      float64\n",
      "price_booked_most_recent                              float64\n",
      "p2_p3_click_through_score                             float64\n",
      "p3_inquiry_score                                      float64\n",
      "listing_m_listing_views_2_6_ds_night_decay            float64\n",
      "general_market_m_unique_searchers_0_6_ds_night        float64\n",
      "general_market_m_contacts_0_6_ds_night                float64\n",
      "general_market_m_reservation_requests_0_6_ds_night    float64\n",
      "general_market_m_is_booked_0_6_ds_night               float64\n",
      "m_available_listings_ds_night                           int64\n",
      "kdt_score                                             float64\n",
      "r_kdt_listing_views_0_6_avg_n100                      float64\n",
      "r_kdt_n_active_n100                                   float64\n",
      "r_kdt_n_available_n100                                float64\n",
      "r_kdt_m_effective_daily_price_n100_p50                float64\n",
      "r_kdt_m_effective_daily_price_available_n100_p50      float64\n",
      "r_kdt_m_effective_daily_price_booked_n100_p50         float64\n",
      "dtype: object\n"
     ]
    }
   ],
   "source": [
    "df = df.apply(myfillna)\n",
    "#print df.head()\n",
    "print df.dtypes"
   ]
  },
  {
   "cell_type": "code",
   "execution_count": 242,
   "metadata": {},
   "outputs": [
    {
     "name": "stdout",
     "output_type": "stream",
     "text": [
      "    dim_market dim_room_type  dim_is_instant_bookable\n",
      "0  Los Angeles  Private room                    False\n",
      "1  Los Angeles  Private room                     True\n",
      "2  Los Angeles  Private room                    False\n",
      "(184279, 3)\n",
      "(184279, 38)\n"
     ]
    }
   ],
   "source": [
    "X = df.select_dtypes(include=[object,bool])\n",
    "X_other= df.select_dtypes(include=[float,int])\n",
    "print X.head(3)\n",
    "print X.shape\n",
    "print X_other.shape"
   ]
  },
  {
   "cell_type": "code",
   "execution_count": 243,
   "metadata": {},
   "outputs": [
    {
     "name": "stdout",
     "output_type": "stream",
     "text": [
      "Index([u'dim_market', u'dim_room_type', u'dim_is_instant_bookable'], dtype='object')\n"
     ]
    },
    {
     "data": {
      "text/html": [
       "<div>\n",
       "<style scoped>\n",
       "    .dataframe tbody tr th:only-of-type {\n",
       "        vertical-align: middle;\n",
       "    }\n",
       "\n",
       "    .dataframe tbody tr th {\n",
       "        vertical-align: top;\n",
       "    }\n",
       "\n",
       "    .dataframe thead th {\n",
       "        text-align: right;\n",
       "    }\n",
       "</style>\n",
       "<table border=\"1\" class=\"dataframe\">\n",
       "  <thead>\n",
       "    <tr style=\"text-align: right;\">\n",
       "      <th></th>\n",
       "      <th>dim_market</th>\n",
       "      <th>dim_room_type</th>\n",
       "      <th>dim_is_instant_bookable</th>\n",
       "    </tr>\n",
       "  </thead>\n",
       "  <tbody>\n",
       "    <tr>\n",
       "      <th>0</th>\n",
       "      <td>0</td>\n",
       "      <td>1</td>\n",
       "      <td>0</td>\n",
       "    </tr>\n",
       "    <tr>\n",
       "      <th>1</th>\n",
       "      <td>0</td>\n",
       "      <td>1</td>\n",
       "      <td>1</td>\n",
       "    </tr>\n",
       "    <tr>\n",
       "      <th>2</th>\n",
       "      <td>0</td>\n",
       "      <td>1</td>\n",
       "      <td>0</td>\n",
       "    </tr>\n",
       "    <tr>\n",
       "      <th>3</th>\n",
       "      <td>0</td>\n",
       "      <td>0</td>\n",
       "      <td>0</td>\n",
       "    </tr>\n",
       "    <tr>\n",
       "      <th>4</th>\n",
       "      <td>0</td>\n",
       "      <td>0</td>\n",
       "      <td>0</td>\n",
       "    </tr>\n",
       "    <tr>\n",
       "      <th>5</th>\n",
       "      <td>0</td>\n",
       "      <td>1</td>\n",
       "      <td>0</td>\n",
       "    </tr>\n",
       "    <tr>\n",
       "      <th>6</th>\n",
       "      <td>0</td>\n",
       "      <td>1</td>\n",
       "      <td>0</td>\n",
       "    </tr>\n",
       "    <tr>\n",
       "      <th>7</th>\n",
       "      <td>0</td>\n",
       "      <td>0</td>\n",
       "      <td>0</td>\n",
       "    </tr>\n",
       "    <tr>\n",
       "      <th>8</th>\n",
       "      <td>0</td>\n",
       "      <td>2</td>\n",
       "      <td>0</td>\n",
       "    </tr>\n",
       "    <tr>\n",
       "      <th>9</th>\n",
       "      <td>0</td>\n",
       "      <td>0</td>\n",
       "      <td>0</td>\n",
       "    </tr>\n",
       "  </tbody>\n",
       "</table>\n",
       "</div>"
      ],
      "text/plain": [
       "   dim_market  dim_room_type  dim_is_instant_bookable\n",
       "0           0              1                        0\n",
       "1           0              1                        1\n",
       "2           0              1                        0\n",
       "3           0              0                        0\n",
       "4           0              0                        0\n",
       "5           0              1                        0\n",
       "6           0              1                        0\n",
       "7           0              0                        0\n",
       "8           0              2                        0\n",
       "9           0              0                        0"
      ]
     },
     "execution_count": 243,
     "metadata": {},
     "output_type": "execute_result"
    }
   ],
   "source": [
    "from sklearn import preprocessing\n",
    "print X.columns\n",
    "# TODO: create a LabelEncoder object and fit it to each feature in X\n",
    "# 1. INSTANTIATE\n",
    "# encode labels with value between 0 and n_classes-1.\n",
    "le = preprocessing.LabelEncoder()\n",
    "# 2/3. FIT AND TRANSFORM\n",
    "# use df.apply() to apply le.fit_transform to all columns\n",
    "X_2 = X.apply(le.fit_transform)\n",
    "X_2.head(10)"
   ]
  },
  {
   "cell_type": "code",
   "execution_count": 244,
   "metadata": {},
   "outputs": [
    {
     "name": "stdout",
     "output_type": "stream",
     "text": [
      "(184279, 8)\n",
      "[[1. 0. 0. ... 0. 1. 0.]\n",
      " [1. 0. 0. ... 0. 0. 1.]\n",
      " [1. 0. 0. ... 0. 1. 0.]\n",
      " ...\n",
      " [0. 0. 1. ... 1. 1. 0.]\n",
      " [0. 0. 1. ... 0. 0. 1.]\n",
      " [0. 0. 1. ... 0. 1. 0.]]\n"
     ]
    }
   ],
   "source": [
    "# 1. INSTANTIATE\n",
    "enc = preprocessing.OneHotEncoder()\n",
    "# 2. FIT\n",
    "enc.fit(X_2)\n",
    "# 3. Transform\n",
    "onehotlabels = enc.transform(X_2).toarray()\n",
    "print onehotlabels.shape\n",
    "print onehotlabels"
   ]
  },
  {
   "cell_type": "code",
   "execution_count": 245,
   "metadata": {},
   "outputs": [
    {
     "name": "stdout",
     "output_type": "stream",
     "text": [
      "(184279, 46)\n"
     ]
    }
   ],
   "source": [
    "X_=np.concatenate((onehotlabels, X_other), axis=1)\n",
    "print X_.shape"
   ]
  },
  {
   "cell_type": "code",
   "execution_count": 246,
   "metadata": {},
   "outputs": [],
   "source": [
    "from sklearn.preprocessing import LabelEncoder\n",
    "\n",
    "#Auto encodes any dataframe column of type category or object.\n",
    "def dummyEncode(df):\n",
    "        columnsToEncode = list(df.select_dtypes(include=['category','object','bool']))\n",
    "        le = LabelEncoder()\n",
    "        for feature in columnsToEncode:\n",
    "            try:\n",
    "                df[feature] = le.fit_transform(df[feature])\n",
    "            except:\n",
    "                print('Error encoding '+feature)\n",
    "        return df"
   ]
  },
  {
   "cell_type": "code",
   "execution_count": 247,
   "metadata": {},
   "outputs": [
    {
     "name": "stdout",
     "output_type": "stream",
     "text": [
      "[0]\n"
     ]
    }
   ],
   "source": [
    "Y=dummyEncode(Y)\n",
    "Y=Y.as_matrix()\n",
    "print Y[0]"
   ]
  },
  {
   "cell_type": "code",
   "execution_count": 249,
   "metadata": {},
   "outputs": [
    {
     "name": "stdout",
     "output_type": "stream",
     "text": [
      "[ 1.00000000e+00  0.00000000e+00  0.00000000e+00  0.00000000e+00\n",
      "  1.00000000e+00  0.00000000e+00  1.00000000e+00  0.00000000e+00\n",
      "  1.10000000e+02  6.00000000e+01  3.40539320e+01 -1.18362970e+02\n",
      "  2.00000000e+00  2.40000000e+01  1.90000000e+01  3.20000000e+02\n",
      "  4.00000000e+00  8.30959000e-01  7.40000000e+01  1.60000000e+01\n",
      "  1.00000000e+00  2.00000000e+00  6.00000000e+00  0.00000000e+00\n",
      "  7.00000000e+00 -1.00000000e+00 -1.00000000e+00  0.00000000e+00\n",
      "  5.00000000e+00  9.00000000e+01  9.20000000e+01 -1.00000000e+00\n",
      " -1.00000000e+00  1.33333333e-01  7.88142857e+02  2.41428571e+02\n",
      "  4.14285714e+01  1.00000000e+00  9.84000000e+03  1.31428576e+00\n",
      "  1.79591837e+00  5.70000000e+01  4.80000000e+01  7.90000000e+01\n",
      "  7.50000000e+01  9.80000000e+01]\n",
      "[0]\n"
     ]
    }
   ],
   "source": [
    "# def indices_to_one_hot(data, nb_classes):\n",
    "#     \"\"\"Convert an iterable of indices to one-hot encoded labels.\"\"\"\n",
    "#     targets = np.array(data).reshape(-1)\n",
    "#     return np.eye(nb_classes)[targets]\n",
    "\n",
    "# Y=indices_to_one_hot(2, Y)\n",
    "# print Y\n",
    "print X_[0]\n",
    "print Y[0]"
   ]
  },
  {
   "cell_type": "code",
   "execution_count": 250,
   "metadata": {},
   "outputs": [],
   "source": [
    "from sklearn.model_selection import train_test_split\n",
    "import warnings\n",
    "import operator\n",
    "warnings.filterwarnings(\"ignore\")\n",
    "X_train, X_test, y_train, y_test = train_test_split(X_, Y, test_size=0.33, random_state=42)"
   ]
  },
  {
   "cell_type": "code",
   "execution_count": 251,
   "metadata": {},
   "outputs": [],
   "source": [
    "from sklearn.ensemble import GradientBoostingClassifier\n",
    "#import xgboost as xgb\n",
    "import warnings\n",
    "import heapq\n",
    "import time\n",
    "from sklearn.model_selection import GridSearchCV\n",
    "from sklearn.ensemble import RandomForestClassifier"
   ]
  },
  {
   "cell_type": "code",
   "execution_count": 252,
   "metadata": {},
   "outputs": [],
   "source": [
    "clf = RandomForestClassifier(n_estimators=100,bootstrap=True,min_samples_leaf=10,min_samples_split=2,criterion='gini',max_features=3, max_depth=None)\n",
    "clf=clf.fit(X_train,y_train)\n"
   ]
  },
  {
   "cell_type": "code",
   "execution_count": 253,
   "metadata": {},
   "outputs": [
    {
     "name": "stdout",
     "output_type": "stream",
     "text": [
      "[0.003507   0.00730831 0.00173547 0.00260083 0.00243546 0.00067006\n",
      " 0.00456751 0.00441398 0.08103341 0.01683962 0.02603545 0.02705266\n",
      " 0.01107026 0.03585913 0.02986899 0.05383178 0.00588166 0.01816496\n",
      " 0.03579792 0.00708368 0.00090896 0.00680817 0.02404841 0.0120601\n",
      " 0.00770472 0.01243136 0.02664622 0.094765   0.01073876 0.0102229\n",
      " 0.04030541 0.01025426 0.00914779 0.10531009 0.02242525 0.02746329\n",
      " 0.02503862 0.0028502  0.03291179 0.01928094 0.02218826 0.01707427\n",
      " 0.01719938 0.02142087 0.02221304 0.02282378]\n"
     ]
    }
   ],
   "source": [
    "print(clf.feature_importances_)\n",
    "y_pred=clf.predict(X_test)"
   ]
  },
  {
   "cell_type": "code",
   "execution_count": 254,
   "metadata": {},
   "outputs": [
    {
     "name": "stdout",
     "output_type": "stream",
     "text": [
      "0.8156808577113446\n"
     ]
    }
   ],
   "source": [
    "from sklearn.metrics import accuracy_score\n",
    "print accuracy_score(y_test, y_pred)"
   ]
  },
  {
   "cell_type": "code",
   "execution_count": 255,
   "metadata": {},
   "outputs": [
    {
     "name": "stderr",
     "output_type": "stream",
     "text": [
      "Using TensorFlow backend.\n"
     ]
    }
   ],
   "source": [
    "import numpy\n",
    "import pandas\n",
    "from keras.models import Sequential\n",
    "from keras.layers import Dense\n",
    "from keras.wrappers.scikit_learn import KerasClassifier\n",
    "from sklearn.model_selection import cross_val_score\n",
    "from sklearn.preprocessing import LabelEncoder\n",
    "from sklearn.model_selection import StratifiedKFold\n",
    "from sklearn.preprocessing import StandardScaler\n",
    "from sklearn.pipeline import Pipeline"
   ]
  },
  {
   "cell_type": "code",
   "execution_count": 256,
   "metadata": {},
   "outputs": [],
   "source": [
    "# baseline model\n",
    "def create_baseline():\n",
    "    # create model\n",
    "    model = Sequential()\n",
    "    model.add(Dense(60, input_dim=46, kernel_initializer='normal', activation='relu'))\n",
    "    model.add(Dense(1, kernel_initializer='normal', activation='sigmoid'))\n",
    "    # Compile model\n",
    "    model.compile(loss='binary_crossentropy', optimizer='adam', metrics=['accuracy'])\n",
    "    return model"
   ]
  },
  {
   "cell_type": "code",
   "execution_count": null,
   "metadata": {},
   "outputs": [],
   "source": [
    "# fix random seed for reproducibility\n",
    "seed = 7\n",
    "numpy.random.seed(seed)\n",
    "# evaluate model with standardized dataset\n",
    "estimator = KerasClassifier(build_fn=create_baseline, epochs=100, batch_size=5, verbose=0)\n",
    "kfold = StratifiedKFold(n_splits=10, shuffle=True, random_state=seed)\n",
    "results = cross_val_score(estimator, X_, Y, cv=kfold)\n",
    "print(\"Results: %.2f%% (%.2f%%)\" % (results.mean()*100, results.std()*100))"
   ]
  },
  {
   "cell_type": "code",
   "execution_count": null,
   "metadata": {},
   "outputs": [],
   "source": [
    "# larger model\n",
    "def create_larger():\n",
    "    # create model\n",
    "    model = Sequential()\n",
    "    model.add(Dense(60, input_dim=46, kernel_initializer='normal', activation='relu'))\n",
    "    model.add(Dense(30, kernel_initializer='normal', activation='relu'))\n",
    "    model.add(Dense(1, kernel_initializer='normal', activation='sigmoid'))\n",
    "    # Compile model\n",
    "    model.compile(loss='binary_crossentropy', optimizer='adam', metrics=['accuracy'])\n",
    "    return model\n",
    "estimators = []\n",
    "estimators.append(('standardize', StandardScaler()))\n",
    "estimators.append(('mlp', KerasClassifier(build_fn=create_larger, epochs=100, batch_size=5, verbose=0)))\n",
    "pipeline = Pipeline(estimators)\n",
    "kfold = StratifiedKFold(n_splits=10, shuffle=True, random_state=seed)\n",
    "results = cross_val_score(pipeline, X_, Y, cv=kfold)\n",
    "print(\"Larger: %.2f%% (%.2f%%)\" % (results.mean()*100, results.std()*100))"
   ]
  },
  {
   "cell_type": "code",
   "execution_count": null,
   "metadata": {},
   "outputs": [],
   "source": []
  }
 ],
 "metadata": {
  "kernelspec": {
   "display_name": "Python 2",
   "language": "python",
   "name": "python2"
  },
  "language_info": {
   "codemirror_mode": {
    "name": "ipython",
    "version": 2
   },
   "file_extension": ".py",
   "mimetype": "text/x-python",
   "name": "python",
   "nbconvert_exporter": "python",
   "pygments_lexer": "ipython2",
   "version": "2.7.15"
  }
 },
 "nbformat": 4,
 "nbformat_minor": 2
}
